{
  "nbformat": 4,
  "nbformat_minor": 0,
  "metadata": {
    "colab": {
      "name": "Untitled1.ipynb",
      "provenance": [],
      "collapsed_sections": [],
      "authorship_tag": "ABX9TyM3Fufem5+3NMHNnvk+2ZYa",
      "include_colab_link": true
    },
    "kernelspec": {
      "name": "python3",
      "display_name": "Python 3"
    }
  },
  "cells": [
    {
      "cell_type": "markdown",
      "metadata": {
        "id": "view-in-github",
        "colab_type": "text"
      },
      "source": [
        "<a href=\"https://colab.research.google.com/github/mosi15/Week_8_lab-and-Week_9_lab-Assignment-DIU/blob/main/Week%208%20%26%20week%209%20OOP%20Lab%20Code.ipynb\" target=\"_parent\"><img src=\"https://colab.research.google.com/assets/colab-badge.svg\" alt=\"Open In Colab\"/></a>"
      ]
    },
    {
      "cell_type": "markdown",
      "metadata": {
        "id": "-SXX3k3lGbu6"
      },
      "source": [
        "#Week-*8*-All Code"
      ]
    },
    {
      "cell_type": "code",
      "metadata": {
        "id": "Le6_EK4hq_G9"
      },
      "source": [
        "#create base calss or parent class\n",
        "class Ball():\n",
        "  def __init__(self):\n",
        "    print(f'Ball created!')\n",
        "  \n",
        "  def who_am_i(self):\n",
        "    print(f'i am ball')"
      ],
      "execution_count": 116,
      "outputs": []
    },
    {
      "cell_type": "code",
      "metadata": {
        "id": "vCuke8YlrB-y"
      },
      "source": [
        "#create a Child(football) class\n",
        "\n",
        "class Football(Ball):\n",
        "  def __init__(self):\n",
        "    #create instances of Ball\n",
        "    Ball.__init__(self)\n",
        "    print(f'football created!')"
      ],
      "execution_count": 117,
      "outputs": []
    },
    {
      "cell_type": "code",
      "metadata": {
        "colab": {
          "base_uri": "https://localhost:8080/"
        },
        "id": "C26u4s6xrJd2",
        "outputId": "efacb8b3-fb28-40a2-ef63-0da0d2e068b0"
      },
      "source": [
        "#create object\n",
        "myFootball = Football()"
      ],
      "execution_count": 118,
      "outputs": [
        {
          "output_type": "stream",
          "text": [
            "Ball created!\n",
            "football created!\n"
          ],
          "name": "stdout"
        }
      ]
    },
    {
      "cell_type": "code",
      "metadata": {
        "colab": {
          "base_uri": "https://localhost:8080/"
        },
        "id": "es8C1n76rNGc",
        "outputId": "dd381bb3-5afb-481b-f210-1b8ac18613f1"
      },
      "source": [
        "#call base method\n",
        "myFootball.who_am_i()"
      ],
      "execution_count": 9,
      "outputs": [
        {
          "output_type": "stream",
          "text": [
            "i am ball\n"
          ],
          "name": "stdout"
        }
      ]
    },
    {
      "cell_type": "code",
      "metadata": {
        "id": "qdiN__oxrSyt"
      },
      "source": [
        "#Use the super() Function\n",
        "class Football(Ball):\n",
        "  def __init__(self):\n",
        "    #create instances of Ball\n",
        "    super().__init__(self)\n",
        "    print(f'football created!')"
      ],
      "execution_count": 119,
      "outputs": []
    },
    {
      "cell_type": "code",
      "metadata": {
        "colab": {
          "base_uri": "https://localhost:8080/"
        },
        "id": "8tSS3h8KrWq0",
        "outputId": "04ebd80f-e0ca-4f52-9807-54e42ed1ab63"
      },
      "source": [
        "#create object\n",
        "myFootball = Football()"
      ],
      "execution_count": 18,
      "outputs": [
        {
          "output_type": "stream",
          "text": [
            "Ball created!\n",
            "football created!\n"
          ],
          "name": "stdout"
        }
      ]
    },
    {
      "cell_type": "code",
      "metadata": {
        "id": "0q4kGUNArZmp"
      },
      "source": [
        "#overriding\n",
        "class Football(Ball):\n",
        "  def __init__(self):\n",
        "    #create instances of Ball\n",
        "    Ball.__init__(self)\n",
        "    print(f'football created!')\n",
        "  #overide base class method\n",
        "  def who_am_i(self):\n",
        "    print(f'i am football!')"
      ],
      "execution_count": 19,
      "outputs": []
    },
    {
      "cell_type": "code",
      "metadata": {
        "colab": {
          "base_uri": "https://localhost:8080/"
        },
        "id": "0AT3aJ-vreET",
        "outputId": "53aa14f6-74cc-4d3d-f984-060db3998715"
      },
      "source": [
        "#create object\n",
        "myFootball = Football()\n",
        "#call overide method\n",
        "myFootball.who_am_i()"
      ],
      "execution_count": 20,
      "outputs": [
        {
          "output_type": "stream",
          "text": [
            "Ball created!\n",
            "football created!\n",
            "i am football!\n"
          ],
          "name": "stdout"
        }
      ]
    },
    {
      "cell_type": "code",
      "metadata": {
        "id": "pHzuVDT4rh7v"
      },
      "source": [
        "#add new method \n",
        "#overriding\n",
        "class Football(Ball):\n",
        "  def __init__(self):\n",
        "    #create instances of Ball\n",
        "    Ball.__init__(self)\n",
        "    print(f'football created!')\n",
        "  #overide base class method\n",
        "  def who_am_i(self):\n",
        "    print(f'i am football!')\n",
        "  #new method\n",
        "  def play(self):\n",
        "    print(f'hey! i am ready for play!')"
      ],
      "execution_count": 21,
      "outputs": []
    },
    {
      "cell_type": "code",
      "metadata": {
        "colab": {
          "base_uri": "https://localhost:8080/"
        },
        "id": "4ybnTbSnrlSF",
        "outputId": "add00df6-ad1f-4ed8-a279-191929b2738a"
      },
      "source": [
        "#create object\n",
        "myFootball = Football()\n",
        "#call new method\n",
        "myFootball.play()"
      ],
      "execution_count": 22,
      "outputs": [
        {
          "output_type": "stream",
          "text": [
            "Ball created!\n",
            "football created!\n",
            "hey! i am ready for play!\n"
          ],
          "name": "stdout"
        }
      ]
    },
    {
      "cell_type": "markdown",
      "metadata": {
        "id": "5iqll6_PF5uT"
      },
      "source": [
        "\n",
        "#Week-9 All Code -Polymorphism in Class Methods"
      ]
    },
    {
      "cell_type": "markdown",
      "metadata": {
        "id": "0f2j_L2kGVn0"
      },
      "source": [
        ""
      ]
    },
    {
      "cell_type": "code",
      "metadata": {
        "id": "Wi3LWQ8JF9hc"
      },
      "source": [
        "class Cat:\n",
        "    def __init__(self, name, age):\n",
        "        self.name = name\n",
        "        self.age = age\n",
        "\n",
        "    def info(self):\n",
        "        print(f\"I am a cat. My name is {self.name}. I am {self.age} years old.\")\n",
        "\n",
        "    def make_sound(self):\n",
        "        print(\"Meow\")"
      ],
      "execution_count": 43,
      "outputs": []
    },
    {
      "cell_type": "code",
      "metadata": {
        "id": "5awPwm9uF9f_"
      },
      "source": [
        "class Mouse:\n",
        "    def __init__(self, name, age):\n",
        "        self.name = name\n",
        "        self.age = age\n",
        "\n",
        "    def info(self):\n",
        "        print(f\"I am a Mouse. My name is {self.name}. I am {self.age} years old.\")\n",
        "\n",
        "    def make_sound(self):\n",
        "        print(\"Bark\")"
      ],
      "execution_count": 44,
      "outputs": []
    },
    {
      "cell_type": "code",
      "metadata": {
        "id": "QJ8bUbjcHOgX"
      },
      "source": [
        "#create object\n",
        "cat1 = Cat(\"tom\", 2.5)\n",
        "mouse1 = Mouse(\"jerry\", 4)"
      ],
      "execution_count": 45,
      "outputs": []
    },
    {
      "cell_type": "code",
      "metadata": {
        "colab": {
          "base_uri": "https://localhost:8080/"
        },
        "id": "CslhLYzQfRMq",
        "outputId": "5199c2ad-0a3d-41ed-fdc3-18815bf59be5"
      },
      "source": [
        "pip install multipledispatch"
      ],
      "execution_count": 88,
      "outputs": [
        {
          "output_type": "stream",
          "text": [
            "Requirement already satisfied: multipledispatch in /usr/local/lib/python3.6/dist-packages (0.6.0)\n",
            "Requirement already satisfied: six in /usr/local/lib/python3.6/dist-packages (from multipledispatch) (1.15.0)\n"
          ],
          "name": "stdout"
        }
      ]
    },
    {
      "cell_type": "code",
      "metadata": {
        "id": "1a3GXAXnhyuS"
      },
      "source": [
        "# Function to take multiple arguments \n",
        "def add (datatype , *args) :\n",
        "  # if datatype is int \n",
        "  # initialize answer as 0\n",
        "  if datatype --'int' :\n",
        "    answer = 0\n",
        "    # if datatype is str\n",
        "    # initialize answer as ''\n",
        "    if datatype =='str' :\n",
        "       answer -''\n",
        "    # Traverse Through The Arguments\n",
        "    for x in args:\n",
        "      # This will do addition if the\n",
        "      # arguments are int. or concatenation\n",
        "      # if the arguments are str\n",
        "      answer = answer + x \n",
        "      print(answer)\n",
        "      # integer\n",
        "      add('int , 5 , 6')\n",
        "      # string \n",
        "      add('str' ,'Hi ','Geeks')"
      ],
      "execution_count": 97,
      "outputs": []
    },
    {
      "cell_type": "code",
      "metadata": {
        "id": "uTdILvMon3Uu"
      },
      "source": [
        "class Mathematics:\n",
        "  def add (self, *args):\n",
        "    sum - 0\n",
        "    for a in args:\n",
        "      sum - sum + a \n",
        "      print(sum)\n",
        "      obj = Mathematics() \n",
        "      obj.add(8, 9, 12)\n",
        "      obj.add(8,9)  "
      ],
      "execution_count": 104,
      "outputs": []
    },
    {
      "cell_type": "code",
      "metadata": {
        "colab": {
          "base_uri": "https://localhost:8080/"
        },
        "id": "jbaBEJeXfdEb",
        "outputId": "e4b8abe5-03dd-41c1-bbdb-1b1d44d7a235"
      },
      "source": [
        "\n",
        "for animal in (cat1, mouse1):\n",
        "    animal.make_sound()\n",
        "    animal.info()\n",
        "    animal.make_sound()"
      ],
      "execution_count": 103,
      "outputs": [
        {
          "output_type": "stream",
          "text": [
            "Meow\n",
            "I am a cat. My name is tom. I am 2.5 years old.\n",
            "Meow\n",
            "Bark\n",
            "I am a Mouse. My name is jerry. I am 4 years old.\n",
            "Bark\n"
          ],
          "name": "stdout"
        }
      ]
    },
    {
      "cell_type": "code",
      "metadata": {
        "id": "EFtzTEROfhYp"
      },
      "source": [
        "#error and exception handling \n",
        "\n",
        "def add(n1, n2):\n",
        "  print(n1+n2)"
      ],
      "execution_count": 32,
      "outputs": []
    },
    {
      "cell_type": "code",
      "metadata": {
        "colab": {
          "base_uri": "https://localhost:8080/"
        },
        "id": "GTcA_TS_fk6N",
        "outputId": "31318af5-a6c2-4663-ba1a-4525eb3a68e6"
      },
      "source": [
        "add(10,20)"
      ],
      "execution_count": 33,
      "outputs": [
        {
          "output_type": "stream",
          "text": [
            "30\n"
          ],
          "name": "stdout"
        }
      ]
    },
    {
      "cell_type": "code",
      "metadata": {
        "id": "YRrpKl2_fq3G"
      },
      "source": [
        "number1=10\n",
        "\n",
        "number2=input(\"please provide a number: \")\n",
        "\n",
        "#give an error and after that nothing is executed\n",
        "add(number1,number2)\n",
        "print(\"add done!\")"
      ],
      "execution_count": null,
      "outputs": []
    },
    {
      "cell_type": "code",
      "metadata": {
        "colab": {
          "base_uri": "https://localhost:8080/"
        },
        "id": "AqtRw2yKfscb",
        "outputId": "79bdac36-c029-47f7-df24-c4d71a9af9ea"
      },
      "source": [
        "#exception handling\n",
        "\n",
        "try:\n",
        "  #want to attempt this code \n",
        "  #may have an error\n",
        "  result = 10+'10'\n",
        "except:\n",
        "  print(f'Hey! its looks like you are not adding correctly!')"
      ],
      "execution_count": 105,
      "outputs": [
        {
          "output_type": "stream",
          "text": [
            "Hey! its looks like you are not adding correctly!\n"
          ],
          "name": "stdout"
        }
      ]
    },
    {
      "cell_type": "code",
      "metadata": {
        "colab": {
          "base_uri": "https://localhost:8080/"
        },
        "id": "Rd8K0JnifsbP",
        "outputId": "5c00b562-83e6-4ee8-e632-34194ae50623"
      },
      "source": [
        "#exception handling\n",
        "\n",
        "try:\n",
        "  #want to attempt this code \n",
        "  result = 10+10\n",
        "except:\n",
        "  print(f'Hey! its looks like you are not adding correctly!')\n",
        "else:\n",
        "  print(f'add went well')\n",
        "  print(f'sum is: {result}')"
      ],
      "execution_count": 106,
      "outputs": [
        {
          "output_type": "stream",
          "text": [
            "add went well\n",
            "sum is: 20\n"
          ],
          "name": "stdout"
        }
      ]
    }
  ]
}